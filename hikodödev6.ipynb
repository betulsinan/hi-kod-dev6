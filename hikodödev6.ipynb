{
 "cells": [
  {
   "cell_type": "code",
   "execution_count": 3,
   "id": "95e78d5b-3cac-4027-8a3a-83f5b020c383",
   "metadata": {},
   "outputs": [],
   "source": [
    "import numpy as np"
   ]
  },
  {
   "cell_type": "code",
   "execution_count": 9,
   "id": "e2d1fec6-555c-4dc4-a955-d695f3388478",
   "metadata": {},
   "outputs": [
    {
     "name": "stdout",
     "output_type": "stream",
     "text": [
      "array: [1 2 3 4 5]\n",
      "boyut (ndim): 1\n",
      "eleman sayısı (size): 5\n",
      "şekil (shape): (5,)\n"
     ]
    }
   ],
   "source": [
    "arr1d = np.array([1,2,3,4,5], dtype=int)\n",
    "print(\"array:\", arr1d)\n",
    "print(\"boyut (ndim):\", arr1d.ndim)\n",
    "print(\"eleman sayısı (size):\", arr1d.size)\n",
    "print(\"şekil (shape):\", arr1d.shape)"
   ]
  },
  {
   "cell_type": "code",
   "execution_count": 11,
   "id": "837526d1-ed63-4271-9001-2eb1dd001b7f",
   "metadata": {},
   "outputs": [
    {
     "name": "stdout",
     "output_type": "stream",
     "text": [
      "array: [[1 2 3]\n",
      " [4 5 6]]\n",
      "boyut(ndim): 2\n",
      "eleman sayısı (size): 6\n",
      "şekil(shape): (2, 3)\n"
     ]
    }
   ],
   "source": [
    "arr2d = np.array([[1,2,3],[4,5,6]])\n",
    "print(\"array:\", arr2d)\n",
    "print(\"boyut(ndim):\", arr2d.ndim)\n",
    "print(\"eleman sayısı (size):\", arr2d.size)\n",
    "print(\"şekil(shape):\", arr2d.shape)"
   ]
  },
  {
   "cell_type": "code",
   "execution_count": 15,
   "id": "ce558a81-2042-451c-bc25-0e6daa927b74",
   "metadata": {},
   "outputs": [
    {
     "name": "stdout",
     "output_type": "stream",
     "text": [
      "array: [[ 1  2  3]\n",
      " [ 4  5  6]\n",
      " [ 7  8  9]\n",
      " [10 11 12]]\n",
      "boyut(ndim): 2\n",
      "eleman sayısı(size): 12\n",
      "şekil(shape): (4, 3)\n"
     ]
    }
   ],
   "source": [
    "arr3d = np.array([[1,2,3],[4,5,6],[7,8,9],[10,11,12]])\n",
    "print(\"array:\", arr3d)\n",
    "print(\"boyut(ndim):\", arr3d.ndim)\n",
    "print(\"eleman sayısı(size):\", arr3d.size)\n",
    "print(\"şekil(shape):\", arr3d.shape)"
   ]
  },
  {
   "cell_type": "code",
   "execution_count": 17,
   "id": "25e4e17e-dd52-4c7b-ac2e-e5f6e08b9538",
   "metadata": {},
   "outputs": [
    {
     "name": "stdout",
     "output_type": "stream",
     "text": [
      "ikinci satır, üçüncü sütundaki eleman: 6\n",
      "ikinci satır: [4 5 6]\n",
      "birinci sütun: [1 4]\n"
     ]
    }
   ],
   "source": [
    "print(\"ikinci satır, üçüncü sütundaki eleman:\", arr2d[1,2])\n",
    "print(\"ikinci satır:\", arr2d[1,:])\n",
    "print(\"birinci sütun:\", arr2d[:,0])"
   ]
  },
  {
   "cell_type": "code",
   "execution_count": 19,
   "id": "fd92ab82-8497-4c27-b473-8a5a046199d1",
   "metadata": {},
   "outputs": [
    {
     "data": {
      "text/plain": [
       "array([[ 1,  2,  3],\n",
       "       [ 4,  5,  6],\n",
       "       [ 7,  8,  9],\n",
       "       [10, 11, 12]])"
      ]
     },
     "execution_count": 19,
     "metadata": {},
     "output_type": "execute_result"
    }
   ],
   "source": [
    "arr3d"
   ]
  },
  {
   "cell_type": "code",
   "execution_count": 31,
   "id": "2f9816e9-9a1c-4158-accc-61e2ad043a41",
   "metadata": {},
   "outputs": [
    {
     "name": "stdout",
     "output_type": "stream",
     "text": [
      "sıfırlardan oluşan array: [[0 0 0]\n",
      " [0 0 0]]\n",
      "birlerden oluşan array: [[1 1 1]\n",
      " [1 1 1]]\n"
     ]
    }
   ],
   "source": [
    "zeros_array = np.zeros((2,3), dtype=int)\n",
    "print(\"sıfırlardan oluşan array:\", zeros_array)\n",
    "ones_array = np.ones((2,3), dtype=int)\n",
    "print(\"birlerden oluşan array:\", ones_array)"
   ]
  },
  {
   "cell_type": "code",
   "execution_count": 39,
   "id": "30cfd8ed-dc62-4e72-bd6f-93294aee724b",
   "metadata": {},
   "outputs": [
    {
     "name": "stdout",
     "output_type": "stream",
     "text": [
      "satır birleştirilmiş array: [[0 0 0]\n",
      " [0 0 0]\n",
      " [1 1 1]\n",
      " [1 1 1]]\n"
     ]
    }
   ],
   "source": [
    "satir_birlestirme = np.vstack((zeros_array,ones_array))\n",
    "print(\"satır birleştirilmiş array:\", satir_birlestirme)"
   ]
  },
  {
   "cell_type": "code",
   "execution_count": 41,
   "id": "4e0ecdee-6ea5-4d4d-a9e3-8398b948195f",
   "metadata": {},
   "outputs": [
    {
     "name": "stdout",
     "output_type": "stream",
     "text": [
      "sütün birleştirilmiş array: [[0 0 0 1 1 1]\n",
      " [0 0 0 1 1 1]]\n"
     ]
    }
   ],
   "source": [
    "sutun_birlestirme = np.hstack((zeros_array,ones_array))\n",
    "print(\"sütün birleştirilmiş array:\", sutun_birlestirme)"
   ]
  },
  {
   "cell_type": "code",
   "execution_count": null,
   "id": "f46d96ba-7dd8-4daa-a529-2002840c0bc8",
   "metadata": {},
   "outputs": [],
   "source": []
  }
 ],
 "metadata": {
  "kernelspec": {
   "display_name": "Python 3 (ipykernel)",
   "language": "python",
   "name": "python3"
  },
  "language_info": {
   "codemirror_mode": {
    "name": "ipython",
    "version": 3
   },
   "file_extension": ".py",
   "mimetype": "text/x-python",
   "name": "python",
   "nbconvert_exporter": "python",
   "pygments_lexer": "ipython3",
   "version": "3.12.4"
  }
 },
 "nbformat": 4,
 "nbformat_minor": 5
}
